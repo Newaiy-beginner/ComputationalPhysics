{
 "cells": [
  {
   "cell_type": "code",
   "execution_count": 1,
   "metadata": {},
   "outputs": [
    {
     "name": "stdout",
     "output_type": "stream",
     "text": [
      "gound state to 1st excited state: 1.0000000098695916\n",
      "gound state to 2nd excited state: -1.973904843356641e-08\n"
     ]
    }
   ],
   "source": [
    "import numpy as np\n",
    "import matplotlib.pyplot as plt\n",
    "import math\n",
    "\n",
    "def func(x):\n",
    "    return 3*(x**2)\n",
    "\n",
    "def integral(fun, xi, xf):\n",
    "    h = 0.01\n",
    "    Sum = 0.0\n",
    "    while xi < xf:\n",
    "        Sum += 0.5*h*(fun(xi) + fun(xi+h))\n",
    "        xi += h\n",
    "    return Sum\n",
    "\n",
    "#print(integral(func, 0.0, 2.0))\n",
    "\n",
    "width = 10\n",
    "def psi(x, n):\n",
    "    return math.sqrt(2/width)*math.sin(n*math.pi*x/width)\n",
    "\n",
    "def Vnn(ni, nf, xi, xf):\n",
    "    def func(x):\n",
    "        return psi(x, nf)*psi(x, ni)\n",
    "    return integral(func, xi, xf)\n",
    "\n",
    "print(\"gound state to 1st excited state:\", Vnn(1, 1, 0.0, width))\n",
    "print(\"gound state to 2nd excited state:\", Vnn(1, 2, 0.0, width))"
   ]
  },
  {
   "cell_type": "code",
   "execution_count": null,
   "metadata": {},
   "outputs": [],
   "source": []
  }
 ],
 "metadata": {
  "kernelspec": {
   "display_name": "Python 3",
   "language": "python",
   "name": "python3"
  },
  "language_info": {
   "codemirror_mode": {
    "name": "ipython",
    "version": 3
   },
   "file_extension": ".py",
   "mimetype": "text/x-python",
   "name": "python",
   "nbconvert_exporter": "python",
   "pygments_lexer": "ipython3",
   "version": "3.7.2"
  }
 },
 "nbformat": 4,
 "nbformat_minor": 2
}
